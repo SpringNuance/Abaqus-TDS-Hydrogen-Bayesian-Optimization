{
 "cells": [
  {
   "cell_type": "code",
   "execution_count": 34,
   "metadata": {},
   "outputs": [
    {
     "name": "stdout",
     "output_type": "stream",
     "text": [
      "The current directory is: \n",
      "c:\\Users\\springnuance\\Desktop\\Abaqus-Hardening-Seq-2-Seq-Project\n"
     ]
    }
   ],
   "source": [
    "import pandas as pd\n",
    "import numpy as np\n",
    "from sklearn.metrics import r2_score\n",
    "import matplotlib.pyplot as plt\n",
    "from matplotlib.pyplot import figure\n",
    "import os\n",
    "from math import * \n",
    "\n",
    "print(\"The current directory is: \")\n",
    "print(os.getcwd())\n",
    "if not os.getcwd().endswith(\"Abaqus-Hardening-Seq-2-Seq-Project\"):\n",
    "    # Move up two directories\n",
    "    path_parent = os.path.dirname(os.getcwd())\n",
    "    os.chdir(path_parent)\n",
    "    path_parent = os.path.dirname(os.getcwd())\n",
    "    os.chdir(path_parent)\n",
    "print(\"The current directory is: \")\n",
    "print(os.getcwd())\n",
    "\n",
    "from modules.IO import *\n",
    "from modules.calculation import *"
   ]
  },
  {
   "cell_type": "code",
   "execution_count": 35,
   "metadata": {},
   "outputs": [
    {
     "name": "stdout",
     "output_type": "stream",
     "text": [
      "The autoreload extension is already loaded. To reload it, use:\n",
      "  %reload_ext autoreload\n"
     ]
    }
   ],
   "source": [
    "%load_ext autoreload\n",
    "%autoreload 2"
   ]
  },
  {
   "cell_type": "code",
   "execution_count": 36,
   "metadata": {},
   "outputs": [
    {
     "name": "stdout",
     "output_type": "stream",
     "text": [
      "100\n",
      "[0.00e+00 5.00e-04 1.00e-03 2.00e-03 3.00e-03 4.00e-03 5.00e-03 6.00e-03\n",
      " 7.00e-03 8.00e-03 9.00e-03 1.00e-02 1.50e-02 2.00e-02 2.50e-02 3.00e-02\n",
      " 3.50e-02 4.00e-02 4.50e-02 5.00e-02 5.50e-02 6.00e-02 6.50e-02 7.00e-02\n",
      " 7.50e-02 8.00e-02 8.50e-02 9.00e-02 9.50e-02 1.00e-01 1.05e-01 1.10e-01\n",
      " 1.15e-01 1.20e-01 1.25e-01 1.30e-01 1.35e-01 1.40e-01 1.45e-01 1.50e-01\n",
      " 1.55e-01 1.60e-01 1.65e-01 1.70e-01 1.75e-01 1.80e-01 1.85e-01 1.90e-01\n",
      " 1.95e-01 2.00e-01 2.10e-01 2.20e-01 2.30e-01 2.40e-01 2.50e-01 2.60e-01\n",
      " 2.70e-01 2.80e-01 2.90e-01 3.00e-01 3.10e-01 3.20e-01 3.30e-01 3.40e-01\n",
      " 3.50e-01 3.60e-01 3.70e-01 3.80e-01 3.90e-01 4.00e-01 4.10e-01 4.20e-01\n",
      " 4.30e-01 4.40e-01 4.50e-01 4.60e-01 4.70e-01 4.80e-01 4.90e-01 5.00e-01\n",
      " 5.50e-01 6.00e-01 6.50e-01 7.00e-01 7.50e-01 8.00e-01 8.50e-01 9.00e-01\n",
      " 9.50e-01 1.00e+00 1.20e+00 1.40e+00 1.60e+00 1.80e+00 2.00e+00 2.20e+00\n",
      " 2.40e+00 2.60e+00 2.80e+00 3.00e+00]\n"
     ]
    }
   ],
   "source": [
    "truePlasticStrainConfig = pd.read_excel(f\"configs/truePlasticStrain_config.xlsx\",engine=\"openpyxl\")\n",
    "ranges_and_increments = []\n",
    "\n",
    "for index, row in truePlasticStrainConfig.iterrows():\n",
    "    ranges_and_increments.append((row['strainStart'], row['strainEnd'], row['strainStep']))\n",
    "    \n",
    "truePlasticStrain = np.array([])\n",
    "\n",
    "# Iterate through each range and increment\n",
    "for i, (start, end, step) in enumerate(ranges_and_increments):\n",
    "    # Skip the start value for all ranges after the first one\n",
    "    if i > 0:\n",
    "        start += step\n",
    "    # Create numpy array for range\n",
    "    strain_range = np.arange(start, end+1e-12, step)\n",
    "    strain_range = np.around(strain_range, decimals=8)\n",
    "    # Append strain_range to strain_array\n",
    "    truePlasticStrain = np.concatenate((truePlasticStrain, strain_range))\n",
    "\n",
    "print(len(truePlasticStrain))\n",
    "print(truePlasticStrain)\n",
    "# np.save(f\"configs/truePlasticStrain_{hardeningLaw}.npy\", truePlasticStrain)"
   ]
  },
  {
   "cell_type": "code",
   "execution_count": 37,
   "metadata": {},
   "outputs": [],
   "source": [
    "import numpy as np\n",
    "\n",
    "#================ defining the hardening laws =============================\n",
    "\n",
    "def Swift(c1,c2,c3, truePlasticStrain):\n",
    "    trueStress = c1 * (c2 + truePlasticStrain) ** c3\n",
    "    return trueStress\n",
    "\n",
    "def Voce(c1,c2,c3,truePlasticStrain):\n",
    "    trueStress = c1 + c2 * (1- np.exp(-c3 * truePlasticStrain))\n",
    "    return trueStress\n",
    "\n",
    "def SwiftVoce(c1,c2,c3,c4,c5,c6,c7,truePlasticStrain):\n",
    "    trueStressSwift = Swift(c2,c3,c4,truePlasticStrain)\n",
    "    trueStressVoce = Voce(c5,c6,c7,truePlasticStrain)\n",
    "    trueStress = c1 * trueStressSwift + (1 - c1) * trueStressVoce\n",
    "    return trueStress\n",
    "\n",
    "def calculate_flowCurve(parameters, hardeningLaw, truePlasticStrain):\n",
    "    # We assume that parameters is a dictionary\n",
    "    if hardeningLaw == \"Swift\":\n",
    "        c1, c2, c3 = parameters[\"c1\"], parameters[\"c2\"], parameters[\"c3\"]\n",
    "        trueStress = Swift(c1, c2, c3, truePlasticStrain)\n",
    "    elif hardeningLaw == \"Voce\":\n",
    "        c1, c2, c3 = parameters[\"c1\"], parameters[\"c2\"], parameters[\"c3\"]\n",
    "        trueStress = Voce(c1, c2, c3, truePlasticStrain)\n",
    "    elif hardeningLaw == \"SwiftVoce\":\n",
    "        c1, c2, c3, c4, c5, c6, c7 = parameters[\"c1\"], parameters[\"c2\"], parameters[\"c3\"], parameters[\"c4\"], parameters[\"c5\"], parameters[\"c6\"], parameters[\"c7\"]\n",
    "        trueStress = SwiftVoce(c1, c2, c3, c4, c5, c6, c7, truePlasticStrain)\n",
    "    return trueStress\n",
    "        "
   ]
  },
  {
   "cell_type": "code",
   "execution_count": 38,
   "metadata": {},
   "outputs": [
    {
     "name": "stdout",
     "output_type": "stream",
     "text": [
      "100\n"
     ]
    }
   ],
   "source": [
    "material = \"DP1000_25C\"\n",
    "resultPath_SV = f\"results_SV/{material}\"\n",
    "resultPath = f\"results/{material}\"\n",
    "geometries = [\"CHD6\", \"NDBR6\", \"NDBR20\", \"NDBR50\", \"SH\"]\n",
    "stages = [\"initial\", \"iteration\"]\n",
    "#plt.figure(figsize=(10, 10))\n",
    "\n",
    "print(len(truePlasticStrain))\n",
    "for geometry in geometries:\n",
    "    for stage in stages:\n",
    "        FD_Curves_smooth = np.load(f\"{resultPath_SV}/{geometry}/{stage}/common/FD_Curves_smooth.npy\", allow_pickle=True).tolist()\n",
    "        FD_Curves_smooth_noSV = []\n",
    "        for key, value in FD_Curves_smooth.items():\n",
    "            FD_Curves_smooth_noSV.append(value)\n",
    "        np.save(f\"{resultPath}/{geometry}/{stage}/common/FD_Curves_smooth.npy\", FD_Curves_smooth_noSV)\n",
    "        \n",
    "        FD_Curves_unsmooth = np.load(f\"{resultPath_SV}/{geometry}/{stage}/common/FD_Curves_unsmooth.npy\", allow_pickle=True).tolist()\n",
    "        FD_Curves_unsmooth_noSV = []\n",
    "        for key, value in FD_Curves_unsmooth.items():\n",
    "            FD_Curves_unsmooth_noSV.append(value)\n",
    "        np.save(f\"{resultPath}/{geometry}/{stage}/common/FD_Curves_unsmooth.npy\", FD_Curves_unsmooth_noSV)\n",
    "\n",
    "        flowCurves = np.load(f\"{resultPath_SV}/{geometry}/{stage}/common/flowCurves.npy\", allow_pickle=True).tolist()\n",
    "        flowCurves_noSV = []\n",
    "        for key, value in flowCurves.items():\n",
    "            trueStress = calculate_flowCurve(dict(key), \"SwiftVoce\", truePlasticStrain)\n",
    "            new_value = {\"strain\": truePlasticStrain, \"stress\": trueStress}\n",
    "            flowCurves_noSV.append(new_value)\n",
    "            #plt.plot(truePlasticStrain, trueStress, color=\"orange\", alpha=0.05)\n",
    "        np.save(f\"{resultPath}/{geometry}/{stage}/common/flowCurves.npy\", flowCurves_noSV)\n"
   ]
  },
  {
   "cell_type": "code",
   "execution_count": 39,
   "metadata": {},
   "outputs": [
    {
     "name": "stdout",
     "output_type": "stream",
     "text": [
      "100\n"
     ]
    }
   ],
   "source": [
    "material = \"DP1000_400C\"\n",
    "resultPath_SV = f\"results_SV/{material}\"\n",
    "resultPath = f\"results/{material}\"\n",
    "geometries = [\"CHD6\", \"NDBR6\", \"NDBR50\"]\n",
    "stages = [\"initial\", \"iteration\"]\n",
    "#plt.figure(figsize=(10, 10))\n",
    "\n",
    "print(len(truePlasticStrain))\n",
    "for geometry in geometries:\n",
    "    for stage in stages:\n",
    "        FD_Curves_smooth = np.load(f\"{resultPath_SV}/{geometry}/{stage}/common/FD_Curves_smooth.npy\", allow_pickle=True).tolist()\n",
    "        FD_Curves_smooth_noSV = []\n",
    "        for key, value in FD_Curves_smooth.items():\n",
    "            FD_Curves_smooth_noSV.append(value)\n",
    "        np.save(f\"{resultPath}/{geometry}/{stage}/common/FD_Curves_smooth.npy\", FD_Curves_smooth_noSV)\n",
    "        \n",
    "        FD_Curves_unsmooth = np.load(f\"{resultPath_SV}/{geometry}/{stage}/common/FD_Curves_unsmooth.npy\", allow_pickle=True).tolist()\n",
    "        FD_Curves_unsmooth_noSV = []\n",
    "        for key, value in FD_Curves_unsmooth.items():\n",
    "            FD_Curves_unsmooth_noSV.append(value)\n",
    "        np.save(f\"{resultPath}/{geometry}/{stage}/common/FD_Curves_unsmooth.npy\", FD_Curves_unsmooth_noSV)\n",
    "\n",
    "        flowCurves = np.load(f\"{resultPath_SV}/{geometry}/{stage}/common/flowCurves.npy\", allow_pickle=True).tolist()\n",
    "        flowCurves_noSV = []\n",
    "        for key, value in flowCurves.items():\n",
    "            trueStress = calculate_flowCurve(dict(key), \"SwiftVoce\", truePlasticStrain)\n",
    "            new_value = {\"strain\": truePlasticStrain, \"stress\": trueStress}\n",
    "            flowCurves_noSV.append(new_value)\n",
    "            #plt.plot(truePlasticStrain, trueStress, color=\"orange\", alpha=0.05)\n",
    "        np.save(f\"{resultPath}/{geometry}/{stage}/common/flowCurves.npy\", flowCurves_noSV)"
   ]
  },
  {
   "cell_type": "code",
   "execution_count": 40,
   "metadata": {},
   "outputs": [
    {
     "name": "stdout",
     "output_type": "stream",
     "text": [
      "100\n"
     ]
    }
   ],
   "source": [
    "material = \"QP1000_25C\"\n",
    "resultPath_SV = f\"results_SV/{material}\"\n",
    "resultPath = f\"results/{material}\"\n",
    "geometries = [\"CHD6\", \"NDBR6\", \"NDBR25\"]\n",
    "stages = [\"initial\", \"iteration\"]\n",
    "#plt.figure(figsize=(10, 10))\n",
    "\n",
    "print(len(truePlasticStrain))\n",
    "for geometry in geometries:\n",
    "    for stage in stages:\n",
    "        FD_Curves_smooth = np.load(f\"{resultPath_SV}/{geometry}/{stage}/common/FD_Curves_smooth.npy\", allow_pickle=True).tolist()\n",
    "        FD_Curves_smooth_noSV = []\n",
    "        for key, value in FD_Curves_smooth.items():\n",
    "            FD_Curves_smooth_noSV.append(value)\n",
    "        np.save(f\"{resultPath}/{geometry}/{stage}/common/FD_Curves_smooth.npy\", FD_Curves_smooth_noSV)\n",
    "        \n",
    "        FD_Curves_unsmooth = np.load(f\"{resultPath_SV}/{geometry}/{stage}/common/FD_Curves_unsmooth.npy\", allow_pickle=True).tolist()\n",
    "        FD_Curves_unsmooth_noSV = []\n",
    "        for key, value in FD_Curves_unsmooth.items():\n",
    "            FD_Curves_unsmooth_noSV.append(value)\n",
    "        np.save(f\"{resultPath}/{geometry}/{stage}/common/FD_Curves_unsmooth.npy\", FD_Curves_unsmooth_noSV)\n",
    "\n",
    "        flowCurves = np.load(f\"{resultPath_SV}/{geometry}/{stage}/common/flowCurves.npy\", allow_pickle=True).tolist()\n",
    "        flowCurves_noSV = []\n",
    "        for key, value in flowCurves.items():\n",
    "            trueStress = calculate_flowCurve(dict(key), \"SwiftVoce\", truePlasticStrain)\n",
    "            new_value = {\"strain\": truePlasticStrain, \"stress\": trueStress}\n",
    "            flowCurves_noSV.append(new_value)\n",
    "            #plt.plot(truePlasticStrain, trueStress, color=\"orange\", alpha=0.05)\n",
    "        np.save(f\"{resultPath}/{geometry}/{stage}/common/flowCurves.npy\", flowCurves_noSV)\n"
   ]
  }
 ],
 "metadata": {
  "kernelspec": {
   "display_name": "Python 3",
   "language": "python",
   "name": "python3"
  },
  "language_info": {
   "codemirror_mode": {
    "name": "ipython",
    "version": 3
   },
   "file_extension": ".py",
   "mimetype": "text/x-python",
   "name": "python",
   "nbconvert_exporter": "python",
   "pygments_lexer": "ipython3",
   "version": "3.12.3"
  },
  "orig_nbformat": 4
 },
 "nbformat": 4,
 "nbformat_minor": 2
}
