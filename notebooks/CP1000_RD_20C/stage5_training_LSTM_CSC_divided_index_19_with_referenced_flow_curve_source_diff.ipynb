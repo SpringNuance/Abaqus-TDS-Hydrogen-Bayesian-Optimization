{
 "cells": [
  {
   "cell_type": "code",
   "execution_count": 5,
   "metadata": {
    "id": "EJfeFpYUCmd6"
   },
   "outputs": [
    {
     "name": "stdout",
     "output_type": "stream",
     "text": [
      "The autoreload extension is already loaded. To reload it, use:\n",
      "  %reload_ext autoreload\n"
     ]
    }
   ],
   "source": [
    "%load_ext autoreload\n",
    "%autoreload 2"
   ]
  },
  {
   "cell_type": "code",
   "execution_count": 6,
   "metadata": {
    "colab": {
     "base_uri": "https://localhost:8080/"
    },
    "id": "XXf24hQtCmeM",
    "outputId": "d36a15be-963a-4db6-daf2-cd68e09409b1"
   },
   "outputs": [
    {
     "name": "stdout",
     "output_type": "stream",
     "text": [
      "The current directory is: \n",
      "/scratch/project_2008630/Abaqus-Hardening-Seq-2-Seq-Project\n",
      "The current directory is: \n",
      "/scratch/project_2008630/Abaqus-Hardening-Seq-2-Seq-Project\n"
     ]
    }
   ],
   "source": [
    "import pandas as pd\n",
    "import numpy as np\n",
    "from sklearn.metrics import r2_score\n",
    "import matplotlib.pyplot as plt\n",
    "from matplotlib.pyplot import figure\n",
    "import os\n",
    "from math import *\n",
    "\n",
    "print(\"The current directory is: \")\n",
    "print(os.getcwd())\n",
    "if not os.getcwd().endswith(\"Abaqus-Hardening-Seq-2-Seq-Project\"):\n",
    "    # Move up two directories\n",
    "    path_parent = os.path.dirname(os.getcwd())\n",
    "    os.chdir(path_parent)\n",
    "    path_parent = os.path.dirname(os.getcwd())\n",
    "    os.chdir(path_parent)\n",
    "print(\"The current directory is: \")\n",
    "print(os.getcwd())"
   ]
  },
  {
   "cell_type": "code",
   "execution_count": 7,
   "metadata": {
    "id": "uK4hhp8dCmeO"
   },
   "outputs": [
    {
     "name": "stdout",
     "output_type": "stream",
     "text": [
      "\n",
      "==========================================\n",
      "= Stage 1: Loading configs and all paths =\n",
      "==========================================\n",
      "\n",
      "Welcome to Abaqus Seq2Seq flow curve calibration project\n",
      "\n",
      "The configurations you have chosen: \n",
      "\n",
      "+--------------------------+-------------------------------------------------------------+\n",
      "|      Global Configs      |                         User choice                         |\n",
      "+--------------------------+-------------------------------------------------------------+\n",
      "|         PROJECT          |                        CP1000_RD_20C                        |\n",
      "|        OBJECTIVES        |      CHD2, CHD4, NDBR2p5, NDBR6, NDBR15, NDBR40, SH115      |\n",
      "|       PROJECT_PATH       | /scratch/project_2008630/Abaqus-Hardening-Seq-2-Seq-Project |\n",
      "|    TRAINING_DATA_PATH    |                 training_data/CP1000_RD_20C                 |\n",
      "|         LOG_PATH         |                    log/CP1000_RD_20C.txt                    |\n",
      "|       MODELS_PATH        |                     models/CP1000_RD_20C                    |\n",
      "|  RESULTS_INIT_DATA_PATH  |              results_initial_data/CP1000_RD_20C             |\n",
      "| RESULTS_INIT_COMMON_PATH |             results_initial_common/CP1000_RD_20C            |\n",
      "|  RESULTS_ITER_DATA_PATH  |             results_iteration_data/CP1000_RD_20C            |\n",
      "| RESULTS_ITER_COMMON_PATH |            results_iteration_common/CP1000_RD_20C           |\n",
      "|       SCRIPTS_PATH       |                    scripts/CP1000_RD_20C                    |\n",
      "|      SIMS_INIT_PATH      |                  sims_initial/CP1000_RD_20C                 |\n",
      "|      SIMS_ITER_PATH      |                 sims_iteration/CP1000_RD_20C                |\n",
      "|       TARGETS_PATH       |                    targets/CP1000_RD_20C                    |\n",
      "|      TEMPLATES_PATH      |                   templates/CP1000_RD_20C                   |\n",
      "+--------------------------+-------------------------------------------------------------+\n",
      "\n",
      "The path to your main project folder is\n",
      "\n",
      "/scratch/project_2008630/Abaqus-Hardening-Seq-2-Seq-Project\n",
      "\n"
     ]
    }
   ],
   "source": [
    "from configs.chosen_project import *\n",
    "from src.stage1_global_configs import *\n",
    "\n",
    "chosen_project_path = \"configs/global_config_CP1000_RD_20C.json\"\n",
    "\n",
    "global_configs = main_global_configs(chosen_project_path)\n",
    "\n",
    "all_paths = global_configs['all_paths']\n",
    "objectives = global_configs['objectives']"
   ]
  },
  {
   "cell_type": "markdown",
   "metadata": {
    "id": "DIYPPhgbCmeP"
   },
   "source": [
    "# Loading the training data"
   ]
  },
  {
   "cell_type": "code",
   "execution_count": 8,
   "metadata": {
    "colab": {
     "base_uri": "https://localhost:8080/"
    },
    "id": "X4IiEAFmCmeR",
    "outputId": "88b0fd59-7d9e-42e0-9a43-5723a8b54351"
   },
   "outputs": [
    {
     "name": "stdout",
     "output_type": "stream",
     "text": [
      "Shape of the training source sequence: torch.Size([192, 99, 7])\n",
      "Shape of the training target sequence: torch.Size([192, 80, 1])\n",
      "Shape of the testing source sequence: torch.Size([64, 99, 7])\n",
      "Shape of the testing target sequence: torch.Size([64, 80, 1])\n",
      "Number of NaN values in train_source_sequence: 0\n",
      "Number of NaN values in train_target_sequence: 0\n",
      "Number of NaN values in test_source_sequence: 0\n",
      "Number of NaN values in test_target_sequence: 0\n",
      "Number of infinite values in train_source_sequence: 0\n",
      "Number of infinite values in train_target_sequence: 0\n",
      "Number of infinite values in test_source_sequence: 0\n",
      "Number of infinite values in test_target_sequence: 0\n",
      "Number of negative values in train_target_sequence: 0\n",
      "Number of negative values in test_target_sequence: 0\n"
     ]
    }
   ],
   "source": [
    "import torch\n",
    "\n",
    "training_data_path = all_paths['training_data_path']\n",
    "models_path = all_paths['models_path']\n",
    "\n",
    "initial_train_source_sequence_diff = torch.load(f\"{training_data_path}/initial_train_source_diff_all.pt\")\n",
    "#initial_train_source_sequence_diff = torch.load(f\"{training_data_path}/initial_train_source_original_all.pt\")\n",
    "initial_train_target_sequence_diff = torch.load(f\"{training_data_path}/initial_train_target_diff_last.pt\")\n",
    "\n",
    "initial_test_source_sequence_diff = torch.load(f\"{training_data_path}/initial_test_source_diff_all.pt\")\n",
    "#initial_test_source_sequence_diff = torch.load(f\"{training_data_path}/initial_test_source_original_all.pt\")\n",
    "initial_test_target_sequence_diff = torch.load(f\"{training_data_path}/initial_test_target_diff_last.pt\")\n",
    "\n",
    "# Convert them to float32\n",
    "\n",
    "initial_train_source_sequence_diff = initial_train_source_sequence_diff.float()\n",
    "initial_train_target_sequence_diff = initial_train_target_sequence_diff.float()\n",
    "initial_test_source_sequence_diff = initial_test_source_sequence_diff.float()\n",
    "initial_test_target_sequence_diff = initial_test_target_sequence_diff.float()\n",
    "\n",
    "print(f\"Shape of the training source sequence: {initial_train_source_sequence_diff.shape}\")\n",
    "print(f\"Shape of the training target sequence: {initial_train_target_sequence_diff.shape}\")\n",
    "print(f\"Shape of the testing source sequence: {initial_test_source_sequence_diff.shape}\")\n",
    "print(f\"Shape of the testing target sequence: {initial_test_target_sequence_diff.shape}\")\n",
    "\n",
    "# Check if any of them has NaN or infinite values\n",
    "\n",
    "print(f\"Number of NaN values in train_source_sequence: {np.isnan(initial_train_source_sequence_diff).sum()}\")\n",
    "print(f\"Number of NaN values in train_target_sequence: {np.isnan(initial_train_target_sequence_diff).sum()}\")\n",
    "print(f\"Number of NaN values in test_source_sequence: {np.isnan(initial_test_source_sequence_diff).sum()}\")\n",
    "print(f\"Number of NaN values in test_target_sequence: {np.isnan(initial_test_target_sequence_diff).sum()}\")\n",
    "\n",
    "print(f\"Number of infinite values in train_source_sequence: {np.isinf(initial_train_source_sequence_diff).sum()}\")\n",
    "print(f\"Number of infinite values in train_target_sequence: {np.isinf(initial_train_target_sequence_diff).sum()}\")\n",
    "print(f\"Number of infinite values in test_source_sequence: {np.isinf(initial_test_source_sequence_diff).sum()}\")\n",
    "print(f\"Number of infinite values in test_target_sequence: {np.isinf(initial_test_target_sequence_diff).sum()}\")\n",
    "\n",
    "# Ensure that all target_sequence are positive\n",
    "print(f\"Number of negative values in train_target_sequence: {(initial_train_target_sequence_diff < 0).sum()}\")\n",
    "print(f\"Number of negative values in test_target_sequence: {(initial_test_target_sequence_diff < 0).sum()}\")"
   ]
  },
  {
   "cell_type": "code",
   "execution_count": 9,
   "metadata": {},
   "outputs": [
    {
     "name": "stdout",
     "output_type": "stream",
     "text": [
      "tensor([0.0443, 0.0462, 0.0313, 0.0378, 0.0508, 0.0566, 0.0325])\n"
     ]
    }
   ],
   "source": [
    "# Ensure that the scale of the source sequence is correct\n",
    "print(initial_train_source_sequence_diff[0][0])"
   ]
  },
  {
   "cell_type": "code",
   "execution_count": 10,
   "metadata": {},
   "outputs": [
    {
     "name": "stdout",
     "output_type": "stream",
     "text": [
      "tensor([7.6436])\n"
     ]
    }
   ],
   "source": [
    "# Ensure that the scale of the target sequence is correct\n",
    "print(initial_train_target_sequence_diff[0][0])"
   ]
  },
  {
   "cell_type": "code",
   "execution_count": 11,
   "metadata": {
    "colab": {
     "base_uri": "https://localhost:8080/"
    },
    "id": "Jh43TFa16Xjx",
    "outputId": "2ac298f1-00e2-48cc-c53d-4ede2b78834b"
   },
   "outputs": [
    {
     "name": "stdout",
     "output_type": "stream",
     "text": [
      "cuda\n"
     ]
    }
   ],
   "source": [
    "# Define the device\n",
    "\n",
    "training_env = \"CSC\" # Choose between \"local\" and \"CSC\"\n",
    "if training_env == \"local\":\n",
    "    device = \"cpu\"\n",
    "else:\n",
    "    device = torch.device('cuda' if torch.cuda.is_available() else 'cpu')\n",
    "print(device)"
   ]
  },
  {
   "cell_type": "code",
   "execution_count": 12,
   "metadata": {},
   "outputs": [
    {
     "name": "stdout",
     "output_type": "stream",
     "text": [
      "torch.Size([80])\n",
      "tensor(6.0415)\n",
      "tensor(0.7763)\n",
      "torch.Size([80])\n",
      "tensor(6.0572)\n",
      "tensor(0.7847)\n",
      "Training Data:\n",
      "Ratio First to Last Timestep: tensor(7.7822)\n",
      "\n",
      "Test Data:\n",
      "Ratio First to Last Timestep: tensor(7.7188)\n"
     ]
    }
   ],
   "source": [
    "# Function to process the data\n",
    "def process_sequence(tensor):\n",
    "    # Calculate the minimum across the batch size dimension\n",
    "    mean_values = tensor.mean(dim=0).squeeze(1)\n",
    "    print(mean_values.shape)\n",
    "    print(mean_values[0])\n",
    "    print(mean_values[-1])\n",
    "    # Calculate the ratio of the first timestep to the last timestep\n",
    "    ratio = mean_values[0] / mean_values[-1]\n",
    "    \n",
    "    return ratio\n",
    "\n",
    "# Process train and test target sequences\n",
    "train_ratio = process_sequence(initial_train_target_sequence_diff)\n",
    "test_ratio = process_sequence(initial_test_target_sequence_diff)\n",
    "\n",
    "# Output the results (you might want to format or log these depending on your use case)\n",
    "print(\"Training Data:\")\n",
    "#print(\"Minimum Values:\", train_min)\n",
    "print(\"Ratio First to Last Timestep:\", train_ratio)\n",
    "\n",
    "print(\"\\nTest Data:\")\n",
    "#print(\"Minimum Values:\", test_min)\n",
    "print(\"Ratio First to Last Timestep:\", test_ratio)"
   ]
  },
  {
   "cell_type": "markdown",
   "metadata": {},
   "source": [
    "We shall proceed to train the model with RMSE of linearly decreasing weights, where max_ratio_differ is 1\n",
    "\n",
    "It is much more costly to regress wrong the first flow curve incremental changes than the last ones, since if the first ones are wrong, these errors would accumulate and totally shift the flow curve. You can set max_ratio_differ to a higher value than 1 to prioritize the first points accuracy"
   ]
  },
  {
   "cell_type": "markdown",
   "metadata": {},
   "source": [
    "# Start training the model"
   ]
  },
  {
   "cell_type": "code",
   "execution_count": 41,
   "metadata": {
    "scrolled": true
   },
   "outputs": [],
   "source": [
    "from optimization.LSTM_helper import *\n",
    "from optimization.LSTM import *\n",
    "\n",
    "def train_LSTM(previous_model, current_model, previous_best_test_loss, \n",
    "               dropout, num_epochs, start_lr, end_lr, start_tf, end_tf, \n",
    "               weight_decay, max_ratio_differ):\n",
    "    \n",
    "    train_dataset = TensorDataset(initial_train_source_sequence_diff, initial_train_target_sequence_diff)\n",
    "    test_dataset = TensorDataset(initial_test_source_sequence_diff, initial_test_target_sequence_diff)\n",
    "    \n",
    "    train_loader = DataLoader(train_dataset, batch_size=64, shuffle=True)\n",
    "    test_loader = DataLoader(test_dataset, batch_size=64, shuffle=False)\n",
    "    \n",
    "    # Parameters\n",
    "    _, source_len, feature_size = initial_train_source_sequence_diff.shape\n",
    "    _, target_len, label_size = initial_train_target_sequence_diff.shape\n",
    "    \n",
    "    hidden_size = 256\n",
    "    num_layers = 3\n",
    "    \n",
    "    bidirectional = True  # Set this flag to True or False as needed\n",
    "    use_attention = True  # Set this flag to True or False to enable/disable attention\n",
    "\n",
    "    # Initialize model, loss function, and optimizer\n",
    "    model = LSTMModel(feature_size, label_size,\n",
    "                      source_len, target_len,\n",
    "                      hidden_size, num_layers,\n",
    "                      dropout=dropout,\n",
    "                      bidirectional=bidirectional, \n",
    "                      use_attention=use_attention).to(device)\n",
    "    \n",
    "    criterion = RMSELoss(linear_weight=True, max_ratio_differ = max_ratio_differ)  # Use the custom RMSE loss\n",
    "    optimizer = optim.Adam(model.parameters(), lr=start_lr, weight_decay=weight_decay)  # Adding L2 regularization\n",
    "\n",
    "    if previous_model is not None:\n",
    "        # Loading the best model from the previous training\n",
    "        model.load_state_dict(torch.load(f\"{models_path}/LSTM/initial/best_model_{previous_model}.pth\"))\n",
    "        best_test_loss = previous_best_test_loss\n",
    "    else:\n",
    "        best_test_loss = float('inf')\n",
    "        \n",
    "    # Count the number of parameters\n",
    "    total_params = sum(p.numel() for p in model.parameters())\n",
    "    print(f'The model has {total_params} parameters.')\n",
    "    \n",
    "    # Track the best model\n",
    "    best_model_path = f\"{models_path}/LSTM/initial/best_model_{current_model}.pth\"\n",
    "    \n",
    "    # Lists to track train and test losses\n",
    "    train_losses = []\n",
    "    test_losses = []\n",
    "    \n",
    "    # Training loop\n",
    "    for epoch in range(num_epochs):\n",
    "        model.train()\n",
    "        train_loss = 0.0\n",
    "    \n",
    "        # Update learning rate\n",
    "        current_lr = linear_lr_scheduler(optimizer, epoch, start_lr, end_lr, num_epochs)\n",
    "        \n",
    "        # Get the current teacher forcing probability from the scheduler\n",
    "        teacher_forcing_prob = linear_teacher_forcing_scheduler(epoch, start_tf, end_tf, num_epochs)\n",
    "    \n",
    "        # teacher_forcing_prob = log_teacher_forcing_scheduler(epoch, start_tf, end_tf, num_epochs)\n",
    "        for batch_idx, (source_batch, target_batch) in enumerate(train_loader):\n",
    "            source_batch, target_batch = source_batch.to(device), target_batch.to(device)\n",
    "    \n",
    "            optimizer.zero_grad()\n",
    "    \n",
    "            # Forward pass\n",
    "            outputs = model(source_batch, target_batch, teacher_forcing_prob)\n",
    "            loss = criterion(outputs, target_batch)\n",
    "    \n",
    "            # Backward pass and optimization\n",
    "            loss.backward()\n",
    "            optimizer.step()\n",
    "    \n",
    "            train_loss += loss.item()\n",
    "    \n",
    "        train_loss /= len(train_loader)\n",
    "        train_losses.append(train_loss)\n",
    "    \n",
    "        # Evaluate on test set\n",
    "        model.eval()\n",
    "        test_loss = 0.0\n",
    "        with torch.no_grad():\n",
    "            for source_batch, target_batch in test_loader:\n",
    "                source_batch, target_batch = source_batch.to(device), target_batch.to(device)\n",
    "    \n",
    "                # Forward pass\n",
    "                outputs = model(source_batch)\n",
    "                loss = criterion(outputs, target_batch)\n",
    "    \n",
    "                test_loss += loss.item()\n",
    "    \n",
    "        test_loss /= len(test_loader)\n",
    "        test_losses.append(test_loss)\n",
    "    \n",
    "        # Save the best model\n",
    "        if test_loss < best_test_loss:\n",
    "            print(f\"New best test loss found: {test_loss}\")\n",
    "            best_test_loss = test_loss\n",
    "            best_model = model\n",
    "            torch.save(model.state_dict(), best_model_path)\n",
    "    \n",
    "        # Print progress\n",
    "        if (epoch+1) % 100 == 0:\n",
    "            print(f'Epoch [{epoch+1}/{num_epochs}], Train Loss: {train_loss:.6f}, Test Loss: {test_loss:.6f}, LR: {current_lr:.9f}, TF: {teacher_forcing_prob:.9f}')\n",
    "    \n",
    "    # Save the train and test loss lists as .npy files\n",
    "    np.save(f'{models_path}/LSTM/initial/train_losses_{current_model}.npy', np.array(train_losses))\n",
    "    np.save(f'{models_path}/LSTM/initial/test_losses_{current_model}.npy', np.array(test_losses))\n",
    "    \n",
    "    torch.save(model.state_dict(), f\"{models_path}/LSTM/initial/last_model_{current_model}.pth\")\n",
    "    \n",
    "    print('Training complete')\n",
    "    print(f'Best model saved with test loss: {best_test_loss:.4f}')"
   ]
  },
  {
   "cell_type": "code",
   "execution_count": 10,
   "metadata": {},
   "outputs": [
    {
     "name": "stdout",
     "output_type": "stream",
     "text": [
      "The model has 8955393 parameters.\n",
      "New best test loss found: 1.96438729763031\n",
      "New best test loss found: 1.569395661354065\n",
      "New best test loss found: 1.5277657508850098\n",
      "New best test loss found: 1.4824365377426147\n",
      "New best test loss found: 1.448875069618225\n",
      "New best test loss found: 1.3935898542404175\n",
      "New best test loss found: 1.2904384136199951\n",
      "New best test loss found: 1.2588348388671875\n",
      "New best test loss found: 1.178313970565796\n",
      "New best test loss found: 1.1742969751358032\n",
      "New best test loss found: 1.1713061332702637\n",
      "New best test loss found: 1.1598947048187256\n",
      "New best test loss found: 1.1527824401855469\n",
      "New best test loss found: 1.1252061128616333\n",
      "New best test loss found: 1.059348702430725\n",
      "New best test loss found: 1.0451511144638062\n",
      "New best test loss found: 0.9592779278755188\n",
      "New best test loss found: 0.957600474357605\n",
      "New best test loss found: 0.8903669118881226\n",
      "New best test loss found: 0.8578134179115295\n",
      "New best test loss found: 0.8510509133338928\n",
      "New best test loss found: 0.8193715214729309\n",
      "New best test loss found: 0.816428542137146\n",
      "New best test loss found: 0.7703143358230591\n",
      "New best test loss found: 0.7409591674804688\n",
      "New best test loss found: 0.7225854396820068\n",
      "New best test loss found: 0.7055010795593262\n",
      "New best test loss found: 0.6798215508460999\n",
      "New best test loss found: 0.6576846241950989\n",
      "New best test loss found: 0.649420440196991\n",
      "New best test loss found: 0.6415290832519531\n",
      "New best test loss found: 0.6182901263237\n",
      "New best test loss found: 0.6064059138298035\n",
      "New best test loss found: 0.5961129665374756\n",
      "New best test loss found: 0.5800300240516663\n",
      "New best test loss found: 0.5707146525382996\n",
      "New best test loss found: 0.5653608441352844\n",
      "New best test loss found: 0.5617339611053467\n",
      "New best test loss found: 0.5524915456771851\n",
      "New best test loss found: 0.5505807399749756\n",
      "New best test loss found: 0.542327344417572\n",
      "New best test loss found: 0.534424364566803\n",
      "New best test loss found: 0.5312928557395935\n",
      "New best test loss found: 0.5254608392715454\n",
      "New best test loss found: 0.5217456817626953\n",
      "New best test loss found: 0.5160950422286987\n",
      "Epoch [100/1000], Train Loss: 0.541032, Test Loss: 0.517342, LR: 0.000460400, TF: 0.901000000\n",
      "New best test loss found: 0.5066917538642883\n",
      "New best test loss found: 0.4930628836154938\n",
      "New best test loss found: 0.4849364459514618\n",
      "New best test loss found: 0.47894948720932007\n",
      "New best test loss found: 0.47636914253234863\n",
      "New best test loss found: 0.4735577404499054\n",
      "New best test loss found: 0.4653971493244171\n",
      "New best test loss found: 0.4617167115211487\n",
      "New best test loss found: 0.45877230167388916\n",
      "New best test loss found: 0.457900732755661\n",
      "New best test loss found: 0.45675045251846313\n",
      "New best test loss found: 0.4497431218624115\n",
      "New best test loss found: 0.44426944851875305\n",
      "New best test loss found: 0.4417960047721863\n",
      "New best test loss found: 0.4373396039009094\n",
      "Epoch [200/1000], Train Loss: 0.477059, Test Loss: 0.454278, LR: 0.000420400, TF: 0.801000000\n",
      "New best test loss found: 0.4364655315876007\n",
      "New best test loss found: 0.4336249530315399\n",
      "New best test loss found: 0.43250343203544617\n",
      "New best test loss found: 0.42723745107650757\n",
      "New best test loss found: 0.4260624945163727\n",
      "New best test loss found: 0.42563197016716003\n",
      "New best test loss found: 0.4206000864505768\n",
      "New best test loss found: 0.42028021812438965\n",
      "Epoch [300/1000], Train Loss: 0.437967, Test Loss: 0.427423, LR: 0.000380400, TF: 0.701000000\n",
      "New best test loss found: 0.41670238971710205\n",
      "New best test loss found: 0.41584742069244385\n",
      "New best test loss found: 0.41151541471481323\n",
      "New best test loss found: 0.4096136689186096\n",
      "New best test loss found: 0.40810513496398926\n",
      "New best test loss found: 0.4054677188396454\n",
      "New best test loss found: 0.4046364724636078\n",
      "New best test loss found: 0.4045882225036621\n",
      "New best test loss found: 0.4006011188030243\n",
      "New best test loss found: 0.39907306432724\n",
      "Epoch [400/1000], Train Loss: 0.390489, Test Loss: 0.424470, LR: 0.000340400, TF: 0.601000000\n",
      "New best test loss found: 0.39527496695518494\n",
      "New best test loss found: 0.3944877088069916\n",
      "New best test loss found: 0.3927333950996399\n",
      "New best test loss found: 0.39124321937561035\n",
      "New best test loss found: 0.3897364139556885\n",
      "New best test loss found: 0.387995183467865\n",
      "New best test loss found: 0.3875514566898346\n",
      "New best test loss found: 0.38365063071250916\n",
      "Epoch [500/1000], Train Loss: 0.373436, Test Loss: 0.413658, LR: 0.000300400, TF: 0.501000000\n",
      "New best test loss found: 0.3808090388774872\n",
      "New best test loss found: 0.3807005286216736\n",
      "New best test loss found: 0.37519824504852295\n",
      "New best test loss found: 0.37476468086242676\n",
      "New best test loss found: 0.36800646781921387\n",
      "New best test loss found: 0.3659572899341583\n",
      "New best test loss found: 0.36530181765556335\n",
      "New best test loss found: 0.3595839738845825\n",
      "Epoch [600/1000], Train Loss: 0.364188, Test Loss: 0.390889, LR: 0.000260400, TF: 0.401000000\n",
      "New best test loss found: 0.3576579988002777\n",
      "New best test loss found: 0.35379505157470703\n",
      "New best test loss found: 0.3491308391094208\n",
      "New best test loss found: 0.3451761305332184\n",
      "New best test loss found: 0.3451133370399475\n",
      "New best test loss found: 0.3443635404109955\n",
      "New best test loss found: 0.3397931158542633\n",
      "New best test loss found: 0.3370060324668884\n",
      "New best test loss found: 0.33687517046928406\n",
      "New best test loss found: 0.3241042494773865\n",
      "New best test loss found: 0.3240390121936798\n",
      "New best test loss found: 0.31947028636932373\n",
      "New best test loss found: 0.313160240650177\n",
      "Epoch [700/1000], Train Loss: 0.332545, Test Loss: 0.397001, LR: 0.000220400, TF: 0.301000000\n",
      "New best test loss found: 0.29669010639190674\n",
      "New best test loss found: 0.29088494181632996\n",
      "New best test loss found: 0.29040011763572693\n",
      "New best test loss found: 0.2857605516910553\n",
      "New best test loss found: 0.2830672860145569\n",
      "New best test loss found: 0.28063058853149414\n",
      "New best test loss found: 0.27065905928611755\n",
      "New best test loss found: 0.26818692684173584\n",
      "New best test loss found: 0.26462826132774353\n",
      "New best test loss found: 0.2634277045726776\n",
      "Epoch [800/1000], Train Loss: 0.243034, Test Loss: 0.263721, LR: 0.000180400, TF: 0.201000000\n",
      "New best test loss found: 0.26301801204681396\n",
      "New best test loss found: 0.26245662569999695\n",
      "New best test loss found: 0.2563890814781189\n",
      "New best test loss found: 0.2544732391834259\n",
      "New best test loss found: 0.24994643032550812\n",
      "New best test loss found: 0.24977463483810425\n",
      "New best test loss found: 0.24075308442115784\n",
      "New best test loss found: 0.23619601130485535\n",
      "New best test loss found: 0.2359456717967987\n",
      "New best test loss found: 0.23382486402988434\n",
      "Epoch [900/1000], Train Loss: 0.232893, Test Loss: 0.233825, LR: 0.000140400, TF: 0.101000000\n",
      "New best test loss found: 0.23366235196590424\n",
      "New best test loss found: 0.22868672013282776\n",
      "New best test loss found: 0.22810034453868866\n",
      "New best test loss found: 0.22748102247714996\n",
      "New best test loss found: 0.2262573391199112\n",
      "New best test loss found: 0.22451584041118622\n",
      "New best test loss found: 0.22307966649532318\n",
      "Epoch [1000/1000], Train Loss: 0.205269, Test Loss: 0.240066, LR: 0.000100400, TF: 0.001000000\n",
      "Training complete\n",
      "Best model saved with test loss: 0.2231\n"
     ]
    }
   ],
   "source": [
    "train_LSTM(previous_model=None, current_model=\"1_train_diff\", previous_best_test_loss=None, \n",
    "               dropout=0.01, num_epochs=1000, start_lr=0.0005, end_lr=0.0001, start_tf=1.0, end_tf=0.0, \n",
    "               weight_decay=1e-3, max_ratio_differ=1)"
   ]
  },
  {
   "cell_type": "code",
   "execution_count": 12,
   "metadata": {},
   "outputs": [
    {
     "name": "stdout",
     "output_type": "stream",
     "text": [
      "The model has 8955393 parameters.\n",
      "New best test loss found: 0.22300595045089722\n",
      "New best test loss found: 0.22093456983566284\n",
      "New best test loss found: 0.2175670564174652\n",
      "New best test loss found: 0.21564088761806488\n",
      "New best test loss found: 0.2154640108346939\n",
      "New best test loss found: 0.21432575583457947\n",
      "Epoch [100/1000], Train Loss: 0.188309, Test Loss: 0.214830, LR: 0.000099010, TF: 0.810900000\n",
      "New best test loss found: 0.21429575979709625\n",
      "New best test loss found: 0.2121727019548416\n",
      "New best test loss found: 0.21105393767356873\n",
      "New best test loss found: 0.21041744947433472\n",
      "New best test loss found: 0.20930373668670654\n",
      "Epoch [200/1000], Train Loss: 0.179368, Test Loss: 0.210118, LR: 0.000098010, TF: 0.720900000\n",
      "New best test loss found: 0.2054360806941986\n",
      "New best test loss found: 0.2042628824710846\n",
      "New best test loss found: 0.2034272700548172\n",
      "New best test loss found: 0.19784128665924072\n",
      "Epoch [300/1000], Train Loss: 0.177490, Test Loss: 0.211344, LR: 0.000097010, TF: 0.630900000\n",
      "Epoch [400/1000], Train Loss: 0.181587, Test Loss: 0.248765, LR: 0.000096010, TF: 0.540900000\n",
      "New best test loss found: 0.19639812409877777\n",
      "New best test loss found: 0.19214779138565063\n",
      "Epoch [500/1000], Train Loss: 0.177234, Test Loss: 0.214100, LR: 0.000095010, TF: 0.450900000\n",
      "New best test loss found: 0.19107817113399506\n",
      "Epoch [600/1000], Train Loss: 0.185322, Test Loss: 0.220175, LR: 0.000094010, TF: 0.360900000\n",
      "New best test loss found: 0.18843305110931396\n",
      "Epoch [700/1000], Train Loss: 0.177279, Test Loss: 0.222560, LR: 0.000093010, TF: 0.270900000\n",
      "New best test loss found: 0.18771852552890778\n",
      "New best test loss found: 0.18742822110652924\n",
      "Epoch [800/1000], Train Loss: 0.163009, Test Loss: 0.190618, LR: 0.000092010, TF: 0.180900000\n",
      "New best test loss found: 0.1838301122188568\n",
      "New best test loss found: 0.1827070713043213\n",
      "Epoch [900/1000], Train Loss: 0.168983, Test Loss: 0.197731, LR: 0.000091010, TF: 0.090900000\n",
      "New best test loss found: 0.1818251609802246\n",
      "New best test loss found: 0.18034061789512634\n",
      "Epoch [1000/1000], Train Loss: 0.165862, Test Loss: 0.209402, LR: 0.000090010, TF: 0.000900000\n",
      "Training complete\n",
      "Best model saved with test loss: 0.1803\n"
     ]
    }
   ],
   "source": [
    "train_LSTM(previous_model=\"1_train_diff\", current_model=\"2_train_diff\", previous_best_test_loss=0.22307966649532318, \n",
    "               dropout=0.01, num_epochs=1000, start_lr=0.0001, end_lr=0.00009, start_tf=0.9, end_tf=0.0, \n",
    "               weight_decay=1e-3, max_ratio_differ=1)"
   ]
  },
  {
   "cell_type": "code",
   "execution_count": 13,
   "metadata": {},
   "outputs": [
    {
     "name": "stdout",
     "output_type": "stream",
     "text": [
      "The model has 8955393 parameters.\n",
      "Epoch [100/1000], Train Loss: 0.170512, Test Loss: 0.201285, LR: 0.000089010, TF: 0.720800000\n",
      "Epoch [200/1000], Train Loss: 0.159867, Test Loss: 0.188728, LR: 0.000088010, TF: 0.640800000\n",
      "New best test loss found: 0.17982041835784912\n",
      "New best test loss found: 0.17970949411392212\n",
      "New best test loss found: 0.1786954551935196\n",
      "New best test loss found: 0.17828530073165894\n",
      "New best test loss found: 0.1777874380350113\n",
      "Epoch [300/1000], Train Loss: 0.165427, Test Loss: 0.201794, LR: 0.000087010, TF: 0.560800000\n",
      "New best test loss found: 0.17594434320926666\n",
      "New best test loss found: 0.17417269945144653\n",
      "Epoch [400/1000], Train Loss: 0.152533, Test Loss: 0.180536, LR: 0.000086010, TF: 0.480800000\n",
      "New best test loss found: 0.17373988032341003\n",
      "Epoch [500/1000], Train Loss: 0.151989, Test Loss: 0.181349, LR: 0.000085010, TF: 0.400800000\n",
      "Epoch [600/1000], Train Loss: 0.146105, Test Loss: 0.177452, LR: 0.000084010, TF: 0.320800000\n",
      "New best test loss found: 0.17352387309074402\n",
      "New best test loss found: 0.17248250544071198\n",
      "New best test loss found: 0.17230920493602753\n",
      "Epoch [700/1000], Train Loss: 0.143520, Test Loss: 0.181520, LR: 0.000083010, TF: 0.240800000\n",
      "New best test loss found: 0.17202752828598022\n",
      "Epoch [800/1000], Train Loss: 0.145596, Test Loss: 0.180045, LR: 0.000082010, TF: 0.160800000\n",
      "New best test loss found: 0.17091283202171326\n",
      "New best test loss found: 0.16989359259605408\n",
      "Epoch [900/1000], Train Loss: 0.152180, Test Loss: 0.192961, LR: 0.000081010, TF: 0.080800000\n",
      "New best test loss found: 0.16958774626255035\n",
      "Epoch [1000/1000], Train Loss: 0.141820, Test Loss: 0.171548, LR: 0.000080010, TF: 0.000800000\n",
      "Training complete\n",
      "Best model saved with test loss: 0.1696\n"
     ]
    }
   ],
   "source": [
    "train_LSTM(previous_model=\"2_train_diff\", current_model=\"3_train_diff\", previous_best_test_loss=0.18034061789512634, \n",
    "               dropout=0.01, num_epochs=1000, start_lr=0.00009, end_lr=0.00008, start_tf=0.8, end_tf=0.0, \n",
    "               weight_decay=1e-3, max_ratio_differ=1)"
   ]
  },
  {
   "cell_type": "code",
   "execution_count": 15,
   "metadata": {},
   "outputs": [
    {
     "name": "stdout",
     "output_type": "stream",
     "text": [
      "The model has 8955393 parameters.\n",
      "New best test loss found: 0.16935108602046967\n",
      "Epoch [100/1000], Train Loss: 0.150884, Test Loss: 0.187298, LR: 0.000079010, TF: 0.630700000\n",
      "New best test loss found: 0.16916455328464508\n",
      "Epoch [200/1000], Train Loss: 0.147715, Test Loss: 0.170569, LR: 0.000078010, TF: 0.560700000\n",
      "New best test loss found: 0.1691361665725708\n",
      "Epoch [300/1000], Train Loss: 0.142758, Test Loss: 0.178749, LR: 0.000077010, TF: 0.490700000\n",
      "New best test loss found: 0.16820958256721497\n",
      "New best test loss found: 0.16751275956630707\n",
      "Epoch [400/1000], Train Loss: 0.145456, Test Loss: 0.185463, LR: 0.000076010, TF: 0.420700000\n",
      "New best test loss found: 0.16738858819007874\n",
      "Epoch [500/1000], Train Loss: 0.139610, Test Loss: 0.173520, LR: 0.000075010, TF: 0.350700000\n",
      "New best test loss found: 0.16705431044101715\n",
      "Epoch [600/1000], Train Loss: 0.157059, Test Loss: 0.205480, LR: 0.000074010, TF: 0.280700000\n",
      "New best test loss found: 0.16629688441753387\n",
      "Epoch [700/1000], Train Loss: 0.158229, Test Loss: 0.172925, LR: 0.000073010, TF: 0.210700000\n",
      "Epoch [800/1000], Train Loss: 0.148508, Test Loss: 0.182162, LR: 0.000072010, TF: 0.140700000\n",
      "Epoch [900/1000], Train Loss: 0.141337, Test Loss: 0.177542, LR: 0.000071010, TF: 0.070700000\n",
      "New best test loss found: 0.16587655246257782\n",
      "Epoch [1000/1000], Train Loss: 0.141402, Test Loss: 0.173200, LR: 0.000070010, TF: 0.000700000\n",
      "Training complete\n",
      "Best model saved with test loss: 0.1659\n"
     ]
    }
   ],
   "source": [
    "train_LSTM(previous_model=\"3_train_diff\", current_model=\"4_train_diff\", previous_best_test_loss=0.16958774626255035, \n",
    "               dropout=0.01, num_epochs=1000, start_lr=0.00008, end_lr=0.00007, start_tf=0.7, end_tf=0.0, \n",
    "               weight_decay=1e-3, max_ratio_differ=1)"
   ]
  },
  {
   "cell_type": "code",
   "execution_count": 16,
   "metadata": {},
   "outputs": [
    {
     "name": "stdout",
     "output_type": "stream",
     "text": [
      "The model has 8955393 parameters.\n",
      "Epoch [100/1000], Train Loss: 0.135981, Test Loss: 0.167610, LR: 0.000069010, TF: 0.540600000\n",
      "Epoch [200/1000], Train Loss: 0.134816, Test Loss: 0.166328, LR: 0.000068010, TF: 0.480600000\n",
      "Epoch [300/1000], Train Loss: 0.151629, Test Loss: 0.193673, LR: 0.000067010, TF: 0.420600000\n",
      "Epoch [400/1000], Train Loss: 0.134984, Test Loss: 0.178426, LR: 0.000066010, TF: 0.360600000\n",
      "New best test loss found: 0.1657775491476059\n",
      "New best test loss found: 0.16546069085597992\n",
      "Epoch [500/1000], Train Loss: 0.139568, Test Loss: 0.171504, LR: 0.000065010, TF: 0.300600000\n",
      "Epoch [600/1000], Train Loss: 0.133448, Test Loss: 0.171899, LR: 0.000064010, TF: 0.240600000\n",
      "Epoch [700/1000], Train Loss: 0.137172, Test Loss: 0.167897, LR: 0.000063010, TF: 0.180600000\n",
      "New best test loss found: 0.16492798924446106\n",
      "Epoch [800/1000], Train Loss: 0.137620, Test Loss: 0.190070, LR: 0.000062010, TF: 0.120600000\n",
      "New best test loss found: 0.1648319959640503\n",
      "Epoch [900/1000], Train Loss: 0.139809, Test Loss: 0.174833, LR: 0.000061010, TF: 0.060600000\n",
      "Epoch [1000/1000], Train Loss: 0.138958, Test Loss: 0.173155, LR: 0.000060010, TF: 0.000600000\n",
      "Training complete\n",
      "Best model saved with test loss: 0.1648\n"
     ]
    }
   ],
   "source": [
    "train_LSTM(previous_model=\"4_train_diff\", current_model=\"5_train_diff\", previous_best_test_loss=0.16587655246257782, \n",
    "               dropout=0.01, num_epochs=1000, start_lr=0.00007, end_lr=0.00006, start_tf=0.6, end_tf=0.0, \n",
    "               weight_decay=1e-3, max_ratio_differ=1)"
   ]
  },
  {
   "cell_type": "code",
   "execution_count": 17,
   "metadata": {},
   "outputs": [
    {
     "name": "stdout",
     "output_type": "stream",
     "text": [
      "The model has 8955393 parameters.\n",
      "Epoch [100/1000], Train Loss: 0.130370, Test Loss: 0.173240, LR: 0.000059010, TF: 0.450500000\n",
      "New best test loss found: 0.16470131278038025\n",
      "New best test loss found: 0.16411830484867096\n",
      "Epoch [200/1000], Train Loss: 0.141180, Test Loss: 0.170561, LR: 0.000058010, TF: 0.400500000\n",
      "New best test loss found: 0.1619386523962021\n",
      "Epoch [300/1000], Train Loss: 0.133926, Test Loss: 0.170656, LR: 0.000057010, TF: 0.350500000\n",
      "Epoch [400/1000], Train Loss: 0.131046, Test Loss: 0.167997, LR: 0.000056010, TF: 0.300500000\n",
      "Epoch [500/1000], Train Loss: 0.127670, Test Loss: 0.167885, LR: 0.000055010, TF: 0.250500000\n",
      "Epoch [600/1000], Train Loss: 0.125340, Test Loss: 0.162600, LR: 0.000054010, TF: 0.200500000\n",
      "New best test loss found: 0.1619034707546234\n",
      "Epoch [700/1000], Train Loss: 0.128817, Test Loss: 0.163309, LR: 0.000053010, TF: 0.150500000\n",
      "New best test loss found: 0.16093207895755768\n",
      "New best test loss found: 0.16067059338092804\n",
      "Epoch [800/1000], Train Loss: 0.133540, Test Loss: 0.167140, LR: 0.000052010, TF: 0.100500000\n",
      "Epoch [900/1000], Train Loss: 0.140897, Test Loss: 0.176655, LR: 0.000051010, TF: 0.050500000\n",
      "Epoch [1000/1000], Train Loss: 0.125178, Test Loss: 0.168247, LR: 0.000050010, TF: 0.000500000\n",
      "Training complete\n",
      "Best model saved with test loss: 0.1607\n"
     ]
    }
   ],
   "source": [
    "train_LSTM(previous_model=\"5_train_diff\", current_model=\"6_train_diff\", previous_best_test_loss=0.1648319959640503, \n",
    "               dropout=0.001, num_epochs=1000, start_lr=0.00006, end_lr=0.00005, start_tf=0.5, end_tf=0.0, \n",
    "               weight_decay=1e-4, max_ratio_differ=1)"
   ]
  },
  {
   "cell_type": "code",
   "execution_count": 18,
   "metadata": {},
   "outputs": [
    {
     "name": "stdout",
     "output_type": "stream",
     "text": [
      "The model has 8955393 parameters.\n",
      "Epoch [100/1000], Train Loss: 0.123999, Test Loss: 0.163712, LR: 0.000049010, TF: 0.360400000\n",
      "Epoch [200/1000], Train Loss: 0.124305, Test Loss: 0.167512, LR: 0.000048010, TF: 0.320400000\n",
      "Epoch [300/1000], Train Loss: 0.122005, Test Loss: 0.164947, LR: 0.000047010, TF: 0.280400000\n",
      "Epoch [400/1000], Train Loss: 0.124524, Test Loss: 0.166618, LR: 0.000046010, TF: 0.240400000\n",
      "Epoch [500/1000], Train Loss: 0.122832, Test Loss: 0.165969, LR: 0.000045010, TF: 0.200400000\n",
      "Epoch [600/1000], Train Loss: 0.121015, Test Loss: 0.163685, LR: 0.000044010, TF: 0.160400000\n",
      "Epoch [700/1000], Train Loss: 0.120582, Test Loss: 0.165714, LR: 0.000043010, TF: 0.120400000\n",
      "Epoch [800/1000], Train Loss: 0.117667, Test Loss: 0.168573, LR: 0.000042010, TF: 0.080400000\n",
      "Epoch [900/1000], Train Loss: 0.117154, Test Loss: 0.164501, LR: 0.000041010, TF: 0.040400000\n",
      "New best test loss found: 0.16009749472141266\n",
      "New best test loss found: 0.15983977913856506\n",
      "New best test loss found: 0.15922307968139648\n",
      "Epoch [1000/1000], Train Loss: 0.119776, Test Loss: 0.161669, LR: 0.000040010, TF: 0.000400000\n",
      "Training complete\n",
      "Best model saved with test loss: 0.1592\n"
     ]
    }
   ],
   "source": [
    "train_LSTM(previous_model=\"6_train_diff\", current_model=\"7_train_diff\", previous_best_test_loss=0.16067059338092804, \n",
    "               dropout=0.001, num_epochs=1000, start_lr=0.00005, end_lr=0.00004, start_tf=0.4, end_tf=0.0, \n",
    "               weight_decay=1e-4, max_ratio_differ=1)"
   ]
  },
  {
   "cell_type": "code",
   "execution_count": 21,
   "metadata": {},
   "outputs": [
    {
     "name": "stdout",
     "output_type": "stream",
     "text": [
      "The model has 8955393 parameters.\n",
      "Epoch [100/1000], Train Loss: 0.126518, Test Loss: 0.161672, LR: 0.000039010, TF: 0.270300000\n",
      "New best test loss found: 0.1591106802225113\n",
      "Epoch [200/1000], Train Loss: 0.128226, Test Loss: 0.168123, LR: 0.000038010, TF: 0.240300000\n",
      "Epoch [300/1000], Train Loss: 0.118072, Test Loss: 0.162086, LR: 0.000037010, TF: 0.210300000\n",
      "Epoch [400/1000], Train Loss: 0.120057, Test Loss: 0.162620, LR: 0.000036010, TF: 0.180300000\n",
      "Epoch [500/1000], Train Loss: 0.117548, Test Loss: 0.163697, LR: 0.000035010, TF: 0.150300000\n",
      "Epoch [600/1000], Train Loss: 0.113670, Test Loss: 0.162812, LR: 0.000034010, TF: 0.120300000\n",
      "Epoch [700/1000], Train Loss: 0.119189, Test Loss: 0.165305, LR: 0.000033010, TF: 0.090300000\n",
      "Epoch [800/1000], Train Loss: 0.118446, Test Loss: 0.169260, LR: 0.000032010, TF: 0.060300000\n",
      "Epoch [900/1000], Train Loss: 0.110722, Test Loss: 0.163946, LR: 0.000031010, TF: 0.030300000\n",
      "Epoch [1000/1000], Train Loss: 0.110336, Test Loss: 0.166198, LR: 0.000030010, TF: 0.000300000\n",
      "Training complete\n",
      "Best model saved with test loss: 0.1591\n"
     ]
    }
   ],
   "source": [
    "train_LSTM(previous_model=\"7_train_diff\", current_model=\"8_train_diff\", previous_best_test_loss=0.15922307968139648, \n",
    "               dropout=0.01, num_epochs=1000, start_lr=0.00004, end_lr=0.00003, start_tf=0.3, end_tf=0.0, \n",
    "               weight_decay=1e-4, max_ratio_differ=1)"
   ]
  },
  {
   "cell_type": "code",
   "execution_count": 14,
   "metadata": {},
   "outputs": [
    {
     "name": "stdout",
     "output_type": "stream",
     "text": [
      "The model has 8955393 parameters.\n",
      "New best test loss found: 0.15910851955413818\n",
      "New best test loss found: 0.15864631533622742\n",
      "Epoch [100/1000], Train Loss: 0.123078, Test Loss: 0.164400, LR: 0.000029010, TF: 0.180200000\n",
      "Epoch [200/1000], Train Loss: 0.115607, Test Loss: 0.162899, LR: 0.000028010, TF: 0.160200000\n",
      "Epoch [300/1000], Train Loss: 0.111396, Test Loss: 0.165795, LR: 0.000027010, TF: 0.140200000\n",
      "Epoch [400/1000], Train Loss: 0.113481, Test Loss: 0.163575, LR: 0.000026010, TF: 0.120200000\n",
      "Epoch [500/1000], Train Loss: 0.111031, Test Loss: 0.169433, LR: 0.000025010, TF: 0.100200000\n",
      "Epoch [600/1000], Train Loss: 0.112176, Test Loss: 0.168567, LR: 0.000024010, TF: 0.080200000\n",
      "Epoch [700/1000], Train Loss: 0.113898, Test Loss: 0.177234, LR: 0.000023010, TF: 0.060200000\n",
      "Epoch [800/1000], Train Loss: 0.108568, Test Loss: 0.169621, LR: 0.000022010, TF: 0.040200000\n",
      "Epoch [900/1000], Train Loss: 0.111286, Test Loss: 0.171190, LR: 0.000021010, TF: 0.020200000\n",
      "Epoch [1000/1000], Train Loss: 0.107086, Test Loss: 0.173576, LR: 0.000020010, TF: 0.000200000\n",
      "Training complete\n",
      "Best model saved with test loss: 0.1586\n"
     ]
    }
   ],
   "source": [
    "train_LSTM(previous_model=\"8_train_diff\", current_model=\"9_train_diff\", previous_best_test_loss=0.1591106802225113, \n",
    "               dropout=0.001, num_epochs=1000, start_lr=0.00003, end_lr=0.00002, start_tf=0.2, end_tf=0.0, \n",
    "               weight_decay=1e-4, max_ratio_differ=1)"
   ]
  },
  {
   "cell_type": "code",
   "execution_count": 16,
   "metadata": {},
   "outputs": [
    {
     "name": "stdout",
     "output_type": "stream",
     "text": [
      "The model has 8955393 parameters.\n",
      "Epoch [100/1000], Train Loss: 0.138576, Test Loss: 0.168090, LR: 0.000099010, TF: 0.901000000\n",
      "New best test loss found: 0.15836161375045776\n",
      "Epoch [200/1000], Train Loss: 0.142388, Test Loss: 0.181058, LR: 0.000098010, TF: 0.801000000\n",
      "Epoch [300/1000], Train Loss: 0.147898, Test Loss: 0.163096, LR: 0.000097010, TF: 0.701000000\n",
      "Epoch [400/1000], Train Loss: 0.144960, Test Loss: 0.180207, LR: 0.000096010, TF: 0.601000000\n",
      "Epoch [500/1000], Train Loss: 0.133616, Test Loss: 0.167906, LR: 0.000095010, TF: 0.501000000\n",
      "Epoch [600/1000], Train Loss: 0.140805, Test Loss: 0.175297, LR: 0.000094010, TF: 0.401000000\n",
      "Epoch [700/1000], Train Loss: 0.165074, Test Loss: 0.217210, LR: 0.000093010, TF: 0.301000000\n",
      "Epoch [800/1000], Train Loss: 0.137053, Test Loss: 0.181073, LR: 0.000092010, TF: 0.201000000\n",
      "Epoch [900/1000], Train Loss: 0.137777, Test Loss: 0.179336, LR: 0.000091010, TF: 0.101000000\n",
      "Epoch [1000/1000], Train Loss: 0.128488, Test Loss: 0.171980, LR: 0.000090010, TF: 0.001000000\n",
      "Training complete\n",
      "Best model saved with test loss: 0.1584\n"
     ]
    }
   ],
   "source": [
    "train_LSTM(previous_model=\"9_train_diff\", current_model=\"10_train_diff\", previous_best_test_loss=0.15864631533622742, \n",
    "               dropout=0.01, num_epochs=1000, start_lr=0.0001, end_lr=0.00009, start_tf=1.0, end_tf=0.0, \n",
    "               weight_decay=1e-3, max_ratio_differ=1)"
   ]
  },
  {
   "cell_type": "code",
   "execution_count": 46,
   "metadata": {},
   "outputs": [
    {
     "name": "stdout",
     "output_type": "stream",
     "text": [
      "The model has 8955393 parameters.\n",
      "New best test loss found: 0.157598614692688\n",
      "Epoch [100/1000], Train Loss: 0.152591, Test Loss: 0.165059, LR: 0.000099010, TF: 0.090100000\n",
      "New best test loss found: 0.1567518711090088\n",
      "Epoch [200/1000], Train Loss: 0.153309, Test Loss: 0.167484, LR: 0.000098010, TF: 0.080100000\n",
      "New best test loss found: 0.15596969425678253\n",
      "New best test loss found: 0.15532825887203217\n",
      "New best test loss found: 0.15518268942832947\n",
      "Epoch [300/1000], Train Loss: 0.128172, Test Loss: 0.163406, LR: 0.000097010, TF: 0.070100000\n",
      "Epoch [400/1000], Train Loss: 0.117666, Test Loss: 0.164971, LR: 0.000096010, TF: 0.060100000\n",
      "Epoch [500/1000], Train Loss: 0.140626, Test Loss: 0.185287, LR: 0.000095010, TF: 0.050100000\n",
      "New best test loss found: 0.15482302010059357\n",
      "Epoch [600/1000], Train Loss: 0.128237, Test Loss: 0.168049, LR: 0.000094010, TF: 0.040100000\n",
      "Epoch [700/1000], Train Loss: 0.115749, Test Loss: 0.161059, LR: 0.000093010, TF: 0.030100000\n",
      "Epoch [800/1000], Train Loss: 0.117365, Test Loss: 0.165234, LR: 0.000092010, TF: 0.020100000\n",
      "Epoch [900/1000], Train Loss: 0.130538, Test Loss: 0.164986, LR: 0.000091010, TF: 0.010100000\n",
      "Epoch [1000/1000], Train Loss: 0.126890, Test Loss: 0.192923, LR: 0.000090010, TF: 0.000100000\n",
      "Training complete\n",
      "Best model saved with test loss: 0.1548\n"
     ]
    }
   ],
   "source": [
    "train_LSTM(previous_model=\"9_train_diff\", current_model=\"10_train_diff\", previous_best_test_loss=0.15836161375045776, \n",
    "               dropout=0.01, num_epochs=1000, start_lr=0.0001, end_lr=0.00009, start_tf=0.1, end_tf=0.0, \n",
    "               weight_decay=1e-5, max_ratio_differ=1)"
   ]
  },
  {
   "cell_type": "code",
   "execution_count": null,
   "metadata": {},
   "outputs": [
    {
     "name": "stdout",
     "output_type": "stream",
     "text": [
      "The model has 8955393 parameters.\n",
      "Epoch [100/1000], Train Loss: 0.135617, Test Loss: 0.185379, LR: 0.000089010, TF: 0.090100000\n",
      "Epoch [200/1000], Train Loss: 0.118424, Test Loss: 0.164631, LR: 0.000088010, TF: 0.080100000\n",
      "Epoch [300/1000], Train Loss: 0.137331, Test Loss: 0.184222, LR: 0.000087010, TF: 0.070100000\n",
      "Epoch [400/1000], Train Loss: 0.124519, Test Loss: 0.179539, LR: 0.000086010, TF: 0.060100000\n"
     ]
    }
   ],
   "source": [
    "train_LSTM(previous_model=\"10_train_diff\", current_model=\"11_train_diff\", previous_best_test_loss=0.15482302010059357, \n",
    "               dropout=0.01, num_epochs=1000, start_lr=0.00009, end_lr=0.00008, start_tf=0.1, end_tf=0.0, \n",
    "               weight_decay=1e-5, max_ratio_differ=1)"
   ]
  },
  {
   "cell_type": "code",
   "execution_count": null,
   "metadata": {},
   "outputs": [],
   "source": []
  }
 ],
 "metadata": {
  "accelerator": "GPU",
  "colab": {
   "gpuType": "T4",
   "provenance": []
  },
  "kaggle": {
   "accelerator": "none",
   "dataSources": [
    {
     "datasetId": 5092767,
     "sourceId": 8527979,
     "sourceType": "datasetVersion"
    }
   ],
   "isGpuEnabled": false,
   "isInternetEnabled": true,
   "language": "python",
   "sourceType": "notebook"
  },
  "kernelspec": {
   "display_name": "Python 3 (ipykernel)",
   "language": "python",
   "name": "python3"
  },
  "language_info": {
   "codemirror_mode": {
    "name": "ipython",
    "version": 3
   },
   "file_extension": ".py",
   "mimetype": "text/x-python",
   "name": "python",
   "nbconvert_exporter": "python",
   "pygments_lexer": "ipython3",
   "version": "3.9.18"
  }
 },
 "nbformat": 4,
 "nbformat_minor": 4
}
