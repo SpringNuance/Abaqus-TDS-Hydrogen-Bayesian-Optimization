{
 "cells": [
  {
   "cell_type": "code",
   "execution_count": 1,
   "metadata": {},
   "outputs": [
    {
     "name": "stdout",
     "output_type": "stream",
     "text": [
      "Derivatives of RMSE with respect to predicted stress: [-0.94280904 -0.47140452 -0.47140452]\n"
     ]
    }
   ],
   "source": [
    "import numpy as np\n",
    "\n",
    "def partial_RMSE_partial_stress(exp_true_stress, predicted_true_stress):\n",
    "    m = len(exp_true_stress)  # Number of data points\n",
    "    differences = exp_true_stress - predicted_true_stress  # Calculate differences\n",
    "    squared_differences = differences**2  # Square the differences\n",
    "    RMSE = np.sqrt(np.mean(squared_differences))  # Calculate RMSE\n",
    "    \n",
    "    # Calculate the gradient of RMSE w.r.t. each predicted stress\n",
    "    if RMSE == 0:\n",
    "        return np.zeros_like(predicted_true_stress)  # To handle division by zero\n",
    "    gradient = (-2 / (m * RMSE)) * differences\n",
    "    \n",
    "    return gradient\n",
    "\n",
    "# Example usage:\n",
    "exp_stress = np.array([100, 150, 200])  # Experimental true stress data points\n",
    "pred_stress = np.array([90, 145, 195])  # Predicted true stress data points\n",
    "\n",
    "# Calculate partial derivatives of RMSE w.r.t. predicted stress values\n",
    "derivatives = partial_RMSE_partial_stress(exp_stress, pred_stress)\n",
    "print(\"Derivatives of RMSE with respect to predicted stress:\", derivatives)\n"
   ]
  }
 ],
 "metadata": {
  "kernelspec": {
   "display_name": "Python 3",
   "language": "python",
   "name": "python3"
  },
  "language_info": {
   "codemirror_mode": {
    "name": "ipython",
    "version": 3
   },
   "file_extension": ".py",
   "mimetype": "text/x-python",
   "name": "python",
   "nbconvert_exporter": "python",
   "pygments_lexer": "ipython3",
   "version": "3.12.3"
  }
 },
 "nbformat": 4,
 "nbformat_minor": 2
}
